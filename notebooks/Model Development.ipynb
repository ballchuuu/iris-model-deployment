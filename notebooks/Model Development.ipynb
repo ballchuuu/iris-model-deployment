{
 "cells": [
  {
   "cell_type": "code",
   "execution_count": 3,
   "metadata": {},
   "outputs": [],
   "source": [
    "from typing import Union\n",
    "import sqlite3\n",
    "import datetime\n",
    "import pickle\n",
    "\n",
    "# EDA\n",
    "import pandas as pd\n",
    "import matplotlib.pyplot as plt\n",
    "\n",
    "# Data Preparation\n",
    "import sklearn\n",
    "from sklearn.model_selection import train_test_split\n",
    "\n",
    "# Model Training\n",
    "from sklearn.linear_model import LogisticRegression\n",
    "from sklearn.metrics import accuracy_score"
   ]
  },
  {
   "cell_type": "markdown",
   "metadata": {},
   "source": [
    "## Model Development"
   ]
  },
  {
   "cell_type": "markdown",
   "metadata": {},
   "source": [
    "Aim: Predict the species of the flower based on the given features such as petal length and sepal width\n",
    "\n",
    "Problem Type: Classification \n",
    "\n",
    "For this problem, as the main aim is to correctly predict the species and since the dataset has balanced classes, accuracy will be used as the main metric. \n",
    "\n",
    "- Accuracy = True Positive / Total number of Samples\n",
    "\n",
    "- If the dataset becomes unbalanced in the future or if greater weightage is placed on False Negatives/Positives, other metrics like recall and F1 score can be included."
   ]
  },
  {
   "cell_type": "code",
   "execution_count": 177,
   "metadata": {},
   "outputs": [],
   "source": [
    "df = pd.read_csv(\"../data/Iris.csv\")"
   ]
  },
  {
   "cell_type": "code",
   "execution_count": 178,
   "metadata": {},
   "outputs": [
    {
     "data": {
      "text/html": [
       "<div>\n",
       "<style scoped>\n",
       "    .dataframe tbody tr th:only-of-type {\n",
       "        vertical-align: middle;\n",
       "    }\n",
       "\n",
       "    .dataframe tbody tr th {\n",
       "        vertical-align: top;\n",
       "    }\n",
       "\n",
       "    .dataframe thead th {\n",
       "        text-align: right;\n",
       "    }\n",
       "</style>\n",
       "<table border=\"1\" class=\"dataframe\">\n",
       "  <thead>\n",
       "    <tr style=\"text-align: right;\">\n",
       "      <th></th>\n",
       "      <th>Id</th>\n",
       "      <th>SepalLengthCm</th>\n",
       "      <th>SepalWidthCm</th>\n",
       "      <th>PetalLengthCm</th>\n",
       "      <th>PetalWidthCm</th>\n",
       "      <th>Species</th>\n",
       "    </tr>\n",
       "  </thead>\n",
       "  <tbody>\n",
       "    <tr>\n",
       "      <th>0</th>\n",
       "      <td>1</td>\n",
       "      <td>5.1</td>\n",
       "      <td>3.5</td>\n",
       "      <td>1.4</td>\n",
       "      <td>0.2</td>\n",
       "      <td>Iris-setosa</td>\n",
       "    </tr>\n",
       "    <tr>\n",
       "      <th>1</th>\n",
       "      <td>2</td>\n",
       "      <td>4.9</td>\n",
       "      <td>3.0</td>\n",
       "      <td>1.4</td>\n",
       "      <td>0.2</td>\n",
       "      <td>Iris-setosa</td>\n",
       "    </tr>\n",
       "    <tr>\n",
       "      <th>2</th>\n",
       "      <td>3</td>\n",
       "      <td>4.7</td>\n",
       "      <td>3.2</td>\n",
       "      <td>1.3</td>\n",
       "      <td>0.2</td>\n",
       "      <td>Iris-setosa</td>\n",
       "    </tr>\n",
       "    <tr>\n",
       "      <th>3</th>\n",
       "      <td>4</td>\n",
       "      <td>4.6</td>\n",
       "      <td>3.1</td>\n",
       "      <td>1.5</td>\n",
       "      <td>0.2</td>\n",
       "      <td>Iris-setosa</td>\n",
       "    </tr>\n",
       "    <tr>\n",
       "      <th>4</th>\n",
       "      <td>5</td>\n",
       "      <td>5.0</td>\n",
       "      <td>3.6</td>\n",
       "      <td>1.4</td>\n",
       "      <td>0.2</td>\n",
       "      <td>Iris-setosa</td>\n",
       "    </tr>\n",
       "  </tbody>\n",
       "</table>\n",
       "</div>"
      ],
      "text/plain": [
       "   Id  SepalLengthCm  SepalWidthCm  PetalLengthCm  PetalWidthCm      Species\n",
       "0   1            5.1           3.5            1.4           0.2  Iris-setosa\n",
       "1   2            4.9           3.0            1.4           0.2  Iris-setosa\n",
       "2   3            4.7           3.2            1.3           0.2  Iris-setosa\n",
       "3   4            4.6           3.1            1.5           0.2  Iris-setosa\n",
       "4   5            5.0           3.6            1.4           0.2  Iris-setosa"
      ]
     },
     "execution_count": 178,
     "metadata": {},
     "output_type": "execute_result"
    }
   ],
   "source": [
    "df.head()"
   ]
  },
  {
   "cell_type": "markdown",
   "metadata": {},
   "source": [
    "### Exploratory Data Analysis"
   ]
  },
  {
   "cell_type": "code",
   "execution_count": 179,
   "metadata": {},
   "outputs": [
    {
     "data": {
      "text/html": [
       "<div>\n",
       "<style scoped>\n",
       "    .dataframe tbody tr th:only-of-type {\n",
       "        vertical-align: middle;\n",
       "    }\n",
       "\n",
       "    .dataframe tbody tr th {\n",
       "        vertical-align: top;\n",
       "    }\n",
       "\n",
       "    .dataframe thead th {\n",
       "        text-align: right;\n",
       "    }\n",
       "</style>\n",
       "<table border=\"1\" class=\"dataframe\">\n",
       "  <thead>\n",
       "    <tr style=\"text-align: right;\">\n",
       "      <th></th>\n",
       "      <th>Id</th>\n",
       "      <th>SepalLengthCm</th>\n",
       "      <th>SepalWidthCm</th>\n",
       "      <th>PetalLengthCm</th>\n",
       "      <th>PetalWidthCm</th>\n",
       "    </tr>\n",
       "  </thead>\n",
       "  <tbody>\n",
       "    <tr>\n",
       "      <th>count</th>\n",
       "      <td>150.000000</td>\n",
       "      <td>150.000000</td>\n",
       "      <td>150.000000</td>\n",
       "      <td>150.000000</td>\n",
       "      <td>150.000000</td>\n",
       "    </tr>\n",
       "    <tr>\n",
       "      <th>mean</th>\n",
       "      <td>75.500000</td>\n",
       "      <td>5.843333</td>\n",
       "      <td>3.054000</td>\n",
       "      <td>3.758667</td>\n",
       "      <td>1.198667</td>\n",
       "    </tr>\n",
       "    <tr>\n",
       "      <th>std</th>\n",
       "      <td>43.445368</td>\n",
       "      <td>0.828066</td>\n",
       "      <td>0.433594</td>\n",
       "      <td>1.764420</td>\n",
       "      <td>0.763161</td>\n",
       "    </tr>\n",
       "    <tr>\n",
       "      <th>min</th>\n",
       "      <td>1.000000</td>\n",
       "      <td>4.300000</td>\n",
       "      <td>2.000000</td>\n",
       "      <td>1.000000</td>\n",
       "      <td>0.100000</td>\n",
       "    </tr>\n",
       "    <tr>\n",
       "      <th>25%</th>\n",
       "      <td>38.250000</td>\n",
       "      <td>5.100000</td>\n",
       "      <td>2.800000</td>\n",
       "      <td>1.600000</td>\n",
       "      <td>0.300000</td>\n",
       "    </tr>\n",
       "    <tr>\n",
       "      <th>50%</th>\n",
       "      <td>75.500000</td>\n",
       "      <td>5.800000</td>\n",
       "      <td>3.000000</td>\n",
       "      <td>4.350000</td>\n",
       "      <td>1.300000</td>\n",
       "    </tr>\n",
       "    <tr>\n",
       "      <th>75%</th>\n",
       "      <td>112.750000</td>\n",
       "      <td>6.400000</td>\n",
       "      <td>3.300000</td>\n",
       "      <td>5.100000</td>\n",
       "      <td>1.800000</td>\n",
       "    </tr>\n",
       "    <tr>\n",
       "      <th>max</th>\n",
       "      <td>150.000000</td>\n",
       "      <td>7.900000</td>\n",
       "      <td>4.400000</td>\n",
       "      <td>6.900000</td>\n",
       "      <td>2.500000</td>\n",
       "    </tr>\n",
       "  </tbody>\n",
       "</table>\n",
       "</div>"
      ],
      "text/plain": [
       "               Id  SepalLengthCm  SepalWidthCm  PetalLengthCm  PetalWidthCm\n",
       "count  150.000000     150.000000    150.000000     150.000000    150.000000\n",
       "mean    75.500000       5.843333      3.054000       3.758667      1.198667\n",
       "std     43.445368       0.828066      0.433594       1.764420      0.763161\n",
       "min      1.000000       4.300000      2.000000       1.000000      0.100000\n",
       "25%     38.250000       5.100000      2.800000       1.600000      0.300000\n",
       "50%     75.500000       5.800000      3.000000       4.350000      1.300000\n",
       "75%    112.750000       6.400000      3.300000       5.100000      1.800000\n",
       "max    150.000000       7.900000      4.400000       6.900000      2.500000"
      ]
     },
     "execution_count": 179,
     "metadata": {},
     "output_type": "execute_result"
    }
   ],
   "source": [
    "# basic statistics and size of dataset\n",
    "df.describe()"
   ]
  },
  {
   "cell_type": "code",
   "execution_count": 180,
   "metadata": {},
   "outputs": [
    {
     "name": "stdout",
     "output_type": "stream",
     "text": [
      "There are 3 in the dataset - ['Iris-setosa', 'Iris-versicolor', 'Iris-virginica']\n"
     ]
    }
   ],
   "source": [
    "# Get number of classes\n",
    "num_classes = df[\"Species\"].nunique()\n",
    "classes = list(df[\"Species\"].unique())\n",
    "print(f\"There are {num_classes} in the dataset - {classes}\")"
   ]
  },
  {
   "cell_type": "code",
   "execution_count": 181,
   "metadata": {},
   "outputs": [
    {
     "data": {
      "text/html": [
       "<div>\n",
       "<style scoped>\n",
       "    .dataframe tbody tr th:only-of-type {\n",
       "        vertical-align: middle;\n",
       "    }\n",
       "\n",
       "    .dataframe tbody tr th {\n",
       "        vertical-align: top;\n",
       "    }\n",
       "\n",
       "    .dataframe thead th {\n",
       "        text-align: right;\n",
       "    }\n",
       "</style>\n",
       "<table border=\"1\" class=\"dataframe\">\n",
       "  <thead>\n",
       "    <tr style=\"text-align: right;\">\n",
       "      <th></th>\n",
       "      <th>Id</th>\n",
       "    </tr>\n",
       "    <tr>\n",
       "      <th>Species</th>\n",
       "      <th></th>\n",
       "    </tr>\n",
       "  </thead>\n",
       "  <tbody>\n",
       "    <tr>\n",
       "      <th>Iris-setosa</th>\n",
       "      <td>50</td>\n",
       "    </tr>\n",
       "    <tr>\n",
       "      <th>Iris-versicolor</th>\n",
       "      <td>50</td>\n",
       "    </tr>\n",
       "    <tr>\n",
       "      <th>Iris-virginica</th>\n",
       "      <td>50</td>\n",
       "    </tr>\n",
       "  </tbody>\n",
       "</table>\n",
       "</div>"
      ],
      "text/plain": [
       "                 Id\n",
       "Species            \n",
       "Iris-setosa      50\n",
       "Iris-versicolor  50\n",
       "Iris-virginica   50"
      ]
     },
     "execution_count": 181,
     "metadata": {},
     "output_type": "execute_result"
    }
   ],
   "source": [
    "\"\"\"\n",
    "Dataset is balanced with same number of rows for each species\n",
    "\"\"\"\n",
    "\n",
    "df[[\"Id\", \"Species\"]].groupby(\"Species\").count()"
   ]
  },
  {
   "cell_type": "code",
   "execution_count": 182,
   "metadata": {},
   "outputs": [
    {
     "data": {
      "text/html": [
       "<div>\n",
       "<style scoped>\n",
       "    .dataframe tbody tr th:only-of-type {\n",
       "        vertical-align: middle;\n",
       "    }\n",
       "\n",
       "    .dataframe tbody tr th {\n",
       "        vertical-align: top;\n",
       "    }\n",
       "\n",
       "    .dataframe thead tr th {\n",
       "        text-align: left;\n",
       "    }\n",
       "\n",
       "    .dataframe thead tr:last-of-type th {\n",
       "        text-align: right;\n",
       "    }\n",
       "</style>\n",
       "<table border=\"1\" class=\"dataframe\">\n",
       "  <thead>\n",
       "    <tr>\n",
       "      <th></th>\n",
       "      <th colspan=\"3\" halign=\"left\">SepalLengthCm</th>\n",
       "      <th colspan=\"3\" halign=\"left\">SepalWidthCm</th>\n",
       "      <th colspan=\"3\" halign=\"left\">PetalLengthCm</th>\n",
       "      <th colspan=\"3\" halign=\"left\">PetalWidthCm</th>\n",
       "    </tr>\n",
       "    <tr>\n",
       "      <th></th>\n",
       "      <th>mean</th>\n",
       "      <th>median</th>\n",
       "      <th>max</th>\n",
       "      <th>mean</th>\n",
       "      <th>median</th>\n",
       "      <th>max</th>\n",
       "      <th>mean</th>\n",
       "      <th>median</th>\n",
       "      <th>max</th>\n",
       "      <th>mean</th>\n",
       "      <th>median</th>\n",
       "      <th>max</th>\n",
       "    </tr>\n",
       "    <tr>\n",
       "      <th>Species</th>\n",
       "      <th></th>\n",
       "      <th></th>\n",
       "      <th></th>\n",
       "      <th></th>\n",
       "      <th></th>\n",
       "      <th></th>\n",
       "      <th></th>\n",
       "      <th></th>\n",
       "      <th></th>\n",
       "      <th></th>\n",
       "      <th></th>\n",
       "      <th></th>\n",
       "    </tr>\n",
       "  </thead>\n",
       "  <tbody>\n",
       "    <tr>\n",
       "      <th>Iris-setosa</th>\n",
       "      <td>5.006</td>\n",
       "      <td>5.0</td>\n",
       "      <td>5.8</td>\n",
       "      <td>3.418</td>\n",
       "      <td>3.4</td>\n",
       "      <td>4.4</td>\n",
       "      <td>1.464</td>\n",
       "      <td>1.50</td>\n",
       "      <td>1.9</td>\n",
       "      <td>0.244</td>\n",
       "      <td>0.2</td>\n",
       "      <td>0.6</td>\n",
       "    </tr>\n",
       "    <tr>\n",
       "      <th>Iris-versicolor</th>\n",
       "      <td>5.936</td>\n",
       "      <td>5.9</td>\n",
       "      <td>7.0</td>\n",
       "      <td>2.770</td>\n",
       "      <td>2.8</td>\n",
       "      <td>3.4</td>\n",
       "      <td>4.260</td>\n",
       "      <td>4.35</td>\n",
       "      <td>5.1</td>\n",
       "      <td>1.326</td>\n",
       "      <td>1.3</td>\n",
       "      <td>1.8</td>\n",
       "    </tr>\n",
       "    <tr>\n",
       "      <th>Iris-virginica</th>\n",
       "      <td>6.588</td>\n",
       "      <td>6.5</td>\n",
       "      <td>7.9</td>\n",
       "      <td>2.974</td>\n",
       "      <td>3.0</td>\n",
       "      <td>3.8</td>\n",
       "      <td>5.552</td>\n",
       "      <td>5.55</td>\n",
       "      <td>6.9</td>\n",
       "      <td>2.026</td>\n",
       "      <td>2.0</td>\n",
       "      <td>2.5</td>\n",
       "    </tr>\n",
       "  </tbody>\n",
       "</table>\n",
       "</div>"
      ],
      "text/plain": [
       "                SepalLengthCm             SepalWidthCm              \\\n",
       "                         mean median  max         mean median  max   \n",
       "Species                                                              \n",
       "Iris-setosa             5.006    5.0  5.8        3.418    3.4  4.4   \n",
       "Iris-versicolor         5.936    5.9  7.0        2.770    2.8  3.4   \n",
       "Iris-virginica          6.588    6.5  7.9        2.974    3.0  3.8   \n",
       "\n",
       "                PetalLengthCm             PetalWidthCm              \n",
       "                         mean median  max         mean median  max  \n",
       "Species                                                             \n",
       "Iris-setosa             1.464   1.50  1.9        0.244    0.2  0.6  \n",
       "Iris-versicolor         4.260   4.35  5.1        1.326    1.3  1.8  \n",
       "Iris-virginica          5.552   5.55  6.9        2.026    2.0  2.5  "
      ]
     },
     "execution_count": 182,
     "metadata": {},
     "output_type": "execute_result"
    }
   ],
   "source": [
    "# Statistics species by group\n",
    "\n",
    "\"\"\"\n",
    "From the statistics below, it seems like petal length and width could be key features in differentiating the different species.\n",
    "\"\"\"\n",
    "stats_dict = {col: [\"mean\", \"median\", \"max\"] for col in df.columns if col not in [\"Id\", \"Species\"]}\n",
    "df.groupby(\"Species\").aggregate(stats_dict)"
   ]
  },
  {
   "cell_type": "code",
   "execution_count": 183,
   "metadata": {},
   "outputs": [
    {
     "data": {
      "text/plain": [
       "<matplotlib.legend.Legend at 0x2a97b77ed00>"
      ]
     },
     "execution_count": 183,
     "metadata": {},
     "output_type": "execute_result"
    },
    {
     "data": {
      "image/png": "[encoded data removed]",
      "text/plain": [
       "<Figure size 936x504 with 1 Axes>"
      ]
     },
     "metadata": {
      "needs_background": "light"
     },
     "output_type": "display_data"
    }
   ],
   "source": [
    "fig, ax = plt.subplots()\n",
    "fig.set_size_inches(13, 7)\n",
    "colour = [\"blue\", \"red\", \"green\"]\n",
    "\n",
    "for c in range(len(classes)):\n",
    "    species = classes[c]\n",
    "    temp_species = df[df[\"Species\"] == species]\n",
    "    ax.scatter(temp_species['PetalLengthCm'], temp_species['PetalWidthCm'], label=species, facecolor=colour[c])\n",
    "\n",
    "ax.set_xlabel(\"Petal Length (cm)\")\n",
    "ax.set_ylabel(\"Petal Width (cm)\")\n",
    "ax.grid()\n",
    "ax.set_title(\"Petal Length by Petal Width Grouped by Species\")\n",
    "ax.legend()"
   ]
  },
  {
   "cell_type": "markdown",
   "metadata": {},
   "source": [
    "Based on the plot above, we can see that petal size differed across species with Iris-virginica having the largest petals followed by Iris-versicolor and lastly Iris-setosa. The trend is also in line with the mean statistics obtained above on `PetalLengthCm` and `PetalWidthCm`. "
   ]
  },
  {
   "cell_type": "markdown",
   "metadata": {},
   "source": [
    "## Data Preparation"
   ]
  },
  {
   "cell_type": "code",
   "execution_count": 184,
   "metadata": {},
   "outputs": [],
   "source": [
    "def train_test_split_by_species(\n",
    "    X: pd.DataFrame, \n",
    "    y: pd.Series, \n",
    "    test_size: float = 0.25,\n",
    "    random_state: int = 42) -> Union[pd.DataFrame, pd.DataFrame, pd.Series, pd.Series]:\n",
    "    \n",
    "    \"\"\"\n",
    "    Function performs train test split by species to ensure that each species has some rows in train set and test set\n",
    "    Outputs: X_train, X_test, y_train, y_test\n",
    "    \n",
    "    Note: As the dataset here is small, validation set is not used.\n",
    "    \"\"\"\n",
    "\n",
    "    X_train, X_test, y_train, y_test = train_test_split(X, y,\n",
    "                                                    stratify=y, \n",
    "                                                    test_size=test_size,\n",
    "                                                    random_state=random_state)\n",
    "\n",
    "    print(f\"Number of train rows: {len(X_train)}\")\n",
    "    print(f\"Number of test rows: {len(X_test)}\")\n",
    "    return X_train, X_test, y_train, y_test"
   ]
  },
  {
   "cell_type": "code",
   "execution_count": 62,
   "metadata": {},
   "outputs": [
    {
     "name": "stdout",
     "output_type": "stream",
     "text": [
      "Number of train rows: 112\n",
      "Number of test rows: 38\n"
     ]
    }
   ],
   "source": [
    "# Train test split\n",
    "X = df.drop([\"Species\", \"Id\"], axis=1)\n",
    "y = df[\"Species\"]\n",
    "X_train, X_test, y_train, y_test = train_test_split_by_species(X=X, y=y, test_size=0.25)"
   ]
  },
  {
   "cell_type": "markdown",
   "metadata": {},
   "source": [
    "## Model Training"
   ]
  },
  {
   "cell_type": "code",
   "execution_count": 149,
   "metadata": {},
   "outputs": [],
   "source": [
    "def push_metric_to_db(db_name:str, model_name: str, train_acc: float, test_acc: float) -> bool:\n",
    "    \"\"\"\n",
    "    Creates a simple table in sqlite db that tracks the metric of each model trained. \n",
    "    Cols: id, model_name, timestamp, accuracy_metric\n",
    "\n",
    "    Output: Boolean on whether the metric was pushed to db and model id \n",
    "    \"\"\"\n",
    "\n",
    "    conn = sqlite3.connect(db_name)\n",
    "    c = conn.cursor()\n",
    "    metric_table_name = \"iris_model_metric\"\n",
    "   \n",
    "    try:\n",
    "        # create metric table if it does not exist\n",
    "        create_query = f\"\"\"\n",
    "        CREATE TABLE IF NOT EXISTS {metric_table_name} (id INTEGER PRIMARY KEY, model_name TEXT, updated_at TIMESTAMP, test_acc FLOAT, train_acc FLOAT);\n",
    "        \"\"\"\n",
    "        c.execute(create_query)\n",
    "\n",
    "        # update table with new metric\n",
    "        timestamp = datetime.datetime.now()\n",
    "        insert_query = f\"\"\"\n",
    "        INSERT INTO '{metric_table_name}' (model_name, updated_at, test_acc, train_acc)\n",
    "        VALUES (?, ?, ?, ?);\n",
    "        \"\"\"\n",
    "        c.execute(insert_query, (model_name, timestamp, test_acc, train_acc))\n",
    "        conn.commit()\n",
    "\n",
    "        # get model id (to save model weights with unique name)\n",
    "        model_ver_query = f\"\"\"\n",
    "        SELECT \n",
    "            id\n",
    "        FROM \n",
    "            {metric_table_name}\n",
    "        ORDER BY updated_at DESC\n",
    "        LIMIT 1\n",
    "        \"\"\"\n",
    "        c.execute(model_ver_query)\n",
    "        sql_result = c.fetchone()\n",
    "        model_ver = sql_result[0]\n",
    "\n",
    "    except Exception as e:\n",
    "        print(\"[ERROR]: Failed to update table\")\n",
    "        print(str(e))\n",
    "\n",
    "        # default model version is 0\n",
    "        return False, 0\n",
    "        \n",
    "    finally:\n",
    "        c.close()\n",
    "        conn.close()\n",
    "\n",
    "    return True, model_ver \n",
    "    "
   ]
  },
  {
   "cell_type": "code",
   "execution_count": 150,
   "metadata": {},
   "outputs": [],
   "source": [
    "def train_model(\n",
    "    X_train: pd.DataFrame, \n",
    "    X_test: pd.DataFrame, \n",
    "    y_train: pd.Series, \n",
    "    y_test: pd.Series,\n",
    "    model: sklearn.base.BaseEstimator,\n",
    "    model_name: str,\n",
    "    db_name: str = \"../data/database.sqlite\") -> sklearn.base.BaseEstimator:\n",
    "\n",
    "    \"\"\"\n",
    "    Function is model agnostic and takes in any sklearn model for training. \n",
    "    After training the weights are saved in the form of a pickle file with the metrics saved to the SQLite database\n",
    "    Outputs: model (i.e. trained_model) \n",
    "    \"\"\"\n",
    "\n",
    "    # train given model\n",
    "    model.fit(X_train,y_train)\n",
    "\n",
    "    # obtain predictions for test set\n",
    "    train_prediction = model.predict(X_train)\n",
    "    test_prediction = model.predict(X_test)\n",
    "    train_acc, test_acc = accuracy_score(y_train, train_prediction), accuracy_score(y_test, test_prediction)\n",
    "    print(\"[SUCCESS]: Completed model training \\n\")\n",
    "\n",
    "    # push model metrics to database and return model version\n",
    "    pushed_bool, model_ver = push_metric_to_db(db_name=db_name, model_name=model_name, train_acc=train_acc, test_acc=test_acc)\n",
    "    if not pushed_bool:\n",
    "        print(\"[ERROR]: Unable to update metrics table with model training results\")\n",
    "    else:\n",
    "        print(f\"[SUCCESS]: Pushed model metrics to {db_name} for model: {model_name}\")\n",
    "        print(f\"Train acc: {train_acc}, Test acc: {test_acc} \\n\")\n",
    "\n",
    "    # save model to pickle file under assets: filename is a combination of model_name + model_id to uniquely differentiate the weights\n",
    "    filename = f\"../src/bentoml/assets/{model_name}_{model_ver}.pkl\"\n",
    "    pickle.dump(model, open(filename, 'wb'))\n",
    "    print(f\"[SUCCESS]: Saved model weights to {filename} in the assets folder\")\n",
    "\n",
    "    return model\n"
   ]
  },
  {
   "cell_type": "code",
   "execution_count": 9,
   "metadata": {},
   "outputs": [
    {
     "name": "stdout",
     "output_type": "stream",
     "text": [
      "[SUCCESS]: Completed model training \n",
      "\n",
      "[SUCCESS]: Pushed model metrics to ../data/database.sqlite for model: log_reg\n",
      "Train acc: 0.9732142857142857, Test acc: 0.9473684210526315 \n",
      "\n",
      "[SUCCESS]: Saved model weights to ../src/bentoml/assets/log_reg_1.pkl in the assets folder\n"
     ]
    }
   ],
   "source": [
    "model = LogisticRegression()\n",
    "model = train_model(X_train=X_train, X_test=X_test, y_train=y_train, y_test=y_test, model=model, model_name=\"log_reg\")"
   ]
  },
  {
   "cell_type": "code",
   "execution_count": 7,
   "metadata": {},
   "outputs": [
    {
     "name": "stdout",
     "output_type": "stream",
     "text": [
      "[(1, 'log_reg', '2023-02-13 22:35:22.837748', 0.9473684210526315, 0.9732142857142857)]\n"
     ]
    }
   ],
   "source": [
    "# Check metrics database\n",
    "db_name = \"../data/database.sqlite\"\n",
    "conn = sqlite3.connect(db_name)\n",
    "c = conn.cursor()\n",
    "metric_table_name = \"iris_model_metric\"\n",
    "\n",
    "create_query = f\"\"\"\n",
    "SELECT * FROM {metric_table_name}\n",
    "\"\"\"\n",
    "\n",
    "try:\n",
    "    c.execute(create_query)\n",
    "    sql_result = c.fetchall()\n",
    "    print(sql_result)\n",
    "finally:\n",
    "    c.close()\n",
    "    conn.close()"
   ]
  },
  {
   "cell_type": "code",
   "execution_count": 8,
   "metadata": {},
   "outputs": [
    {
     "data": {
      "text/plain": [
       "'Iris-setosa'"
      ]
     },
     "execution_count": 8,
     "metadata": {},
     "output_type": "execute_result"
    }
   ],
   "source": [
    "# test model prediction from saved pickle file\n",
    "filename = f\"../src/bentoml/assets/log_reg_1.pkl\"\n",
    "loaded_model = pickle.load(open(filename, 'rb'))\n",
    "sample = {'SepalLengthCm': 4.4,\n",
    "            'SepalWidthCm': 3.2,\n",
    "            'PetalLengthCm': 1.3,\n",
    "            'PetalWidthCm': 0.2}\n",
    "loaded_model.predict([list(sample.values())])[0]"
   ]
  },
  {
   "cell_type": "code",
   "execution_count": null,
   "metadata": {},
   "outputs": [],
   "source": []
  }
 ],
 "metadata": {
  "kernelspec": {
   "display_name": "Python 3.9.7 ('base')",
   "language": "python",
   "name": "python3"
  },
  "language_info": {
   "codemirror_mode": {
    "name": "ipython",
    "version": 3
   },
   "file_extension": ".py",
   "mimetype": "text/x-python",
   "name": "python",
   "nbconvert_exporter": "python",
   "pygments_lexer": "ipython3",
   "version": "3.9.7"
  },
  "orig_nbformat": 4,
  "vscode": {
   "interpreter": {
    "hash": "62607193043c6790cd6e7c728724d3493e5f7cbc34ff1f8238ff74867df91f55"
   }
  }
 },
 "nbformat": 4,
 "nbformat_minor": 2
}
